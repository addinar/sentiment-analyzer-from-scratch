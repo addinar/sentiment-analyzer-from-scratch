{
  "nbformat": 4,
  "nbformat_minor": 0,
  "metadata": {
    "colab": {
      "provenance": []
    },
    "kernelspec": {
      "name": "python3",
      "display_name": "Python 3"
    },
    "language_info": {
      "name": "python"
    }
  },
  "cells": [
    {
      "cell_type": "markdown",
      "source": [
        "# **1. Load Packages and Libraries**"
      ],
      "metadata": {
        "id": "m7pbhTlSFP6E"
      }
    },
    {
      "cell_type": "markdown",
      "source": [
        "If you are performing this on a Jupyter Notebook or a virtual python environment, then made sure to call `!pip install -r requirements.txt` first."
      ],
      "metadata": {
        "id": "wVCmSAgOFeLA"
      }
    },
    {
      "cell_type": "code",
      "execution_count": null,
      "metadata": {
        "colab": {
          "base_uri": "https://localhost:8080/"
        },
        "id": "xlPGLAt76rOZ",
        "outputId": "b030e800-4ad2-4646-e944-fb54def6229d"
      },
      "outputs": [
        {
          "output_type": "stream",
          "name": "stderr",
          "text": [
            "[nltk_data] Downloading package wordnet to /root/nltk_data...\n",
            "[nltk_data] Downloading package omw-1.4 to /root/nltk_data...\n"
          ]
        }
      ],
      "source": [
        "import numpy as np\n",
        "import nltk\n",
        "nltk.download('wordnet')\n",
        "nltk.download('omw-1.4')\n",
        "from nltk import WordNetLemmatizer\n",
        "import re\n",
        "import sys\n",
        "sys.path.append('/content')\n",
        "import pickle"
      ]
    },
    {
      "cell_type": "markdown",
      "source": [
        "Make sure you have **all** the files from the `/src` folder loaded."
      ],
      "metadata": {
        "id": "t7HEoT_zFwvC"
      }
    },
    {
      "cell_type": "code",
      "source": [
        "from transformerblock import TransformerBlock\n",
        "from classifierhead import ClassifierHead\n",
        "from simple_sentiment_analyzer import SimpleSentimentAnalyzer"
      ],
      "metadata": {
        "id": "9HF6-ZCq8grO"
      },
      "execution_count": 24,
      "outputs": []
    },
    {
      "cell_type": "markdown",
      "source": [
        "Define `file_path` as the path to a designated `.pkl` file in the `/exports` folder."
      ],
      "metadata": {
        "id": "M0OO1DtYGIl8"
      }
    },
    {
      "cell_type": "code",
      "source": [
        "file_path = 'sentiment_analyzer_1.pkl'\n",
        "with open(file_path, 'rb') as f:\n",
        "    analyzer = pickle.load(f)"
      ],
      "metadata": {
        "id": "nbeCIohD7zCy"
      },
      "execution_count": 29,
      "outputs": []
    },
    {
      "cell_type": "code",
      "source": [
        "my_analyzer = analyzer['analyzer']"
      ],
      "metadata": {
        "id": "QRiMItV69q1s"
      },
      "execution_count": 30,
      "outputs": []
    },
    {
      "cell_type": "code",
      "source": [
        "text = \"This is my favorite!\"\n",
        "prediction = my_analyzer.predict(text)\n",
        "prediction # print prediction"
      ],
      "metadata": {
        "colab": {
          "base_uri": "https://localhost:8080/",
          "height": 35
        },
        "id": "wqeTYT5z9F1N",
        "outputId": "4cae0974-1dfa-41c5-9b10-88d862756e14"
      },
      "execution_count": 33,
      "outputs": [
        {
          "output_type": "execute_result",
          "data": {
            "text/plain": [
              "'positive'"
            ],
            "application/vnd.google.colaboratory.intrinsic+json": {
              "type": "string"
            }
          },
          "metadata": {},
          "execution_count": 33
        }
      ]
    }
  ]
}