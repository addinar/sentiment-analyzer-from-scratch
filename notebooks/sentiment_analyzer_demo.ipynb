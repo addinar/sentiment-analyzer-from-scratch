{
  "nbformat": 4,
  "nbformat_minor": 0,
  "metadata": {
    "colab": {
      "provenance": []
    },
    "kernelspec": {
      "name": "python3",
      "display_name": "Python 3"
    },
    "language_info": {
      "name": "python"
    }
  },
  "cells": [
    {
      "cell_type": "markdown",
      "source": [
        "# **1. Load Packages and Libraries**"
      ],
      "metadata": {
        "id": "m7pbhTlSFP6E"
      }
    },
    {
      "cell_type": "markdown",
      "source": [
        "If you are performing this on a Jupyter Notebook or a virtual python environment, then made sure to call `!pip install -r requirements.txt` first."
      ],
      "metadata": {
        "id": "wVCmSAgOFeLA"
      }
    },
    {
      "cell_type": "code",
      "execution_count": 1,
      "metadata": {
        "colab": {
          "base_uri": "https://localhost:8080/"
        },
        "id": "xlPGLAt76rOZ",
        "outputId": "28155114-5768-41d4-974d-1039a138b476"
      },
      "outputs": [
        {
          "output_type": "stream",
          "name": "stderr",
          "text": [
            "[nltk_data] Downloading package wordnet to /root/nltk_data...\n",
            "[nltk_data] Downloading package omw-1.4 to /root/nltk_data...\n"
          ]
        }
      ],
      "source": [
        "import numpy as np\n",
        "import nltk\n",
        "nltk.download('wordnet')\n",
        "nltk.download('omw-1.4')\n",
        "from nltk import WordNetLemmatizer\n",
        "import re\n",
        "import sys\n",
        "sys.path.append('/content')\n",
        "import pickle"
      ]
    },
    {
      "cell_type": "markdown",
      "source": [
        "# **2.Load Files**"
      ],
      "metadata": {
        "id": "N0AAaQESubcw"
      }
    },
    {
      "cell_type": "markdown",
      "source": [
        "Make sure you have **all** the files from the `/src` folder loaded."
      ],
      "metadata": {
        "id": "t7HEoT_zFwvC"
      }
    },
    {
      "cell_type": "code",
      "source": [
        "from transformerblock import TransformerBlock\n",
        "from classifierhead import ClassifierHead\n",
        "from simple_sentiment_analyzer import SimpleSentimentAnalyzer"
      ],
      "metadata": {
        "id": "9HF6-ZCq8grO",
        "colab": {
          "base_uri": "https://localhost:8080/"
        },
        "outputId": "43c41275-bcdc-4c34-b488-00eedbb14bd2"
      },
      "execution_count": 2,
      "outputs": [
        {
          "output_type": "stream",
          "name": "stderr",
          "text": [
            "[nltk_data] Downloading package wordnet to /root/nltk_data...\n",
            "[nltk_data]   Package wordnet is already up-to-date!\n",
            "[nltk_data] Downloading package omw-1.4 to /root/nltk_data...\n",
            "[nltk_data]   Package omw-1.4 is already up-to-date!\n"
          ]
        }
      ]
    },
    {
      "cell_type": "markdown",
      "source": [
        "# **3. Load `.pkl` file**"
      ],
      "metadata": {
        "id": "HNhrdA-6uh0P"
      }
    },
    {
      "cell_type": "markdown",
      "source": [
        "Define `file_path` as the path to a designated `.pkl` file in the `/exports` folder."
      ],
      "metadata": {
        "id": "M0OO1DtYGIl8"
      }
    },
    {
      "cell_type": "code",
      "source": [
        "file_path = 'sentiment_analyzer_1.pkl'\n",
        "with open(file_path, 'rb') as f:\n",
        "    analyzer = pickle.load(f)"
      ],
      "metadata": {
        "id": "nbeCIohD7zCy"
      },
      "execution_count": 9,
      "outputs": []
    },
    {
      "cell_type": "markdown",
      "source": [
        "# **4. Run the Model**"
      ],
      "metadata": {
        "id": "nRgkaNuFusDS"
      }
    },
    {
      "cell_type": "code",
      "source": [
        "model = analyzer['analyzer']"
      ],
      "metadata": {
        "id": "QRiMItV69q1s"
      },
      "execution_count": 10,
      "outputs": []
    },
    {
      "cell_type": "code",
      "source": [
        "text = \"This is my favorite\"\n",
        "prediction = model.predict(text)\n",
        "prediction # print prediction"
      ],
      "metadata": {
        "colab": {
          "base_uri": "https://localhost:8080/",
          "height": 35
        },
        "id": "wqeTYT5z9F1N",
        "outputId": "b0f51de7-128e-4a0c-8b5a-d684cbb9bf1d"
      },
      "execution_count": 12,
      "outputs": [
        {
          "output_type": "execute_result",
          "data": {
            "text/plain": [
              "'positive'"
            ],
            "application/vnd.google.colaboratory.intrinsic+json": {
              "type": "string"
            }
          },
          "metadata": {},
          "execution_count": 12
        }
      ]
    }
  ]
}